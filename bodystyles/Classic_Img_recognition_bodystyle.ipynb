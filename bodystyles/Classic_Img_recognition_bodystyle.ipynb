{
 "cells": [
  {
   "cell_type": "code",
   "execution_count": 1,
   "metadata": {},
   "outputs": [],
   "source": [
    "import numpy as np\n",
    "import tensorflow as tf\n",
    "from tensorflow import keras\n",
    "from tensorflow.keras.models import Sequential\n",
    "from tensorflow.keras.layers import Activation, Dense, Flatten, BatchNormalization, Conv2D, MaxPool2D\n",
    "from tensorflow.keras.optimizers import Adam\n",
    "from tensorflow.keras.metrics import categorical_crossentropy\n",
    "from tensorflow.keras.preprocessing.image import ImageDataGenerator\n",
    "from sklearn.metrics import confusion_matrix\n",
    "import itertools\n",
    "import os \n",
    "import shutil\n",
    "import random\n",
    "import glob\n",
    "import matplotlib.pyplot as plt\n",
    "import warnings\n",
    "warnings.simplefilter(action='ignore', category=FutureWarning)\n"
   ]
  },
  {
   "cell_type": "code",
   "execution_count": 2,
   "metadata": {},
   "outputs": [],
   "source": [
    "os.chdir('../Classic_IR_Bodystyle/bodystyles')\n",
    "if os.path.isdir('train/coupe') is False:\n",
    "    os.makedirs('train/coupe')\n",
    "    os.makedirs('train/truck')\n",
    "    os.makedirs('train/vert')\n",
    "    os.makedirs('train/motorcycle')\n",
    "    os.makedirs('train/sport')\n",
    "    os.makedirs('valid/coupe')\n",
    "    os.makedirs('valid/truck')\n",
    "    os.makedirs('valid/vert')\n",
    "    os.makedirs('valid/motorcycle')\n",
    "    os.makedirs('valid/sport')\n",
    "    os.makedirs('test/coupe')\n",
    "    os.makedirs('test/truck')\n",
    "    os.makedirs('test/vert')\n",
    "    os.makedirs('test/motorcycle')\n",
    "    os.makedirs('test/sport')\n",
    "    \n",
    "    for i in random.sample(glob.glob('coupe*'), 35):\n",
    "        shutil.move(i, 'train/coupe')\n",
    "    for i in random.sample(glob.glob('truck*'), 35):\n",
    "        shutil.move(i, 'train/truck')\n",
    "    for i in random.sample(glob.glob('vert*'), 35):\n",
    "        shutil.move(i, 'train/vert')\n",
    "    for i in random.sample(glob.glob('motorcycle*'), 35):\n",
    "        shutil.move(i, 'train/motorcycle')\n",
    "    for i in random.sample(glob.glob('sport*'), 35):\n",
    "        shutil.move(i, 'train/sport')\n",
    "    for i in random.sample(glob.glob('coupe*'), 10):\n",
    "        shutil.move(i, 'valid/coupe')\n",
    "    for i in random.sample(glob.glob('truck*'), 10):\n",
    "        shutil.move(i, 'valid/truck')\n",
    "    for i in random.sample(glob.glob('vert*'), 10):\n",
    "        shutil.move(i, 'valid/vert')\n",
    "    for i in random.sample(glob.glob('motorcycle*'), 10):\n",
    "        shutil.move(i, 'valid/motorcycle')\n",
    "    for i in random.sample(glob.glob('sport*'), 10):\n",
    "        shutil.move(i, 'valid/sport')\n",
    "    for i in random.sample(glob.glob('coupe*'), 5):\n",
    "        shutil.move(i, 'test/coupe')\n",
    "    for i in random.sample(glob.glob('truck*'), 5):\n",
    "        shutil.move(i, 'test/truck')\n",
    "    for i in random.sample(glob.glob('vert*'), 5):\n",
    "        shutil.move(i, 'test/vert')\n",
    "    for i in random.sample(glob.glob('motorcycle*'), 5):\n",
    "        shutil.move(i, 'test/motorcycle')\n",
    "    for i in random.sample(glob.glob('sport*'), 5):\n",
    "        shutil.move(i, 'test/sport')\n"
   ]
  },
  {
   "cell_type": "code",
   "execution_count": null,
   "metadata": {},
   "outputs": [],
   "source": []
  },
  {
   "cell_type": "code",
   "execution_count": null,
   "metadata": {},
   "outputs": [],
   "source": []
  }
 ],
 "metadata": {
  "kernelspec": {
   "display_name": "Python 3",
   "language": "python",
   "name": "python3"
  },
  "language_info": {
   "codemirror_mode": {
    "name": "ipython",
    "version": 3
   },
   "file_extension": ".py",
   "mimetype": "text/x-python",
   "name": "python",
   "nbconvert_exporter": "python",
   "pygments_lexer": "ipython3",
   "version": "3.7.6"
  }
 },
 "nbformat": 4,
 "nbformat_minor": 4
}
